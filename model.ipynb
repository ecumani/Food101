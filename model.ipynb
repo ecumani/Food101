{
 "cells": [
  {
   "cell_type": "code",
   "execution_count": 33,
   "metadata": {},
   "outputs": [],
   "source": [
    "import torch\n",
    "import torchvision\n",
    "from torchvision import transforms\n",
    "from torchvision import datasets \n",
    "import pandas as pd\n",
    "import numpy as np\n",
    "import matplotlib.pyplot as plt\n",
    "from torch.utils.data import ConcatDataset\n",
    "import seaborn as sn\n"
   ]
  },
  {
   "cell_type": "code",
   "execution_count": 42,
   "metadata": {},
   "outputs": [
    {
     "data": {
      "text/plain": [
       "1010000"
      ]
     },
     "execution_count": 42,
     "metadata": {},
     "output_type": "execute_result"
    }
   ],
   "source": [
    "transform_original = transforms.Compose([\n",
    "    transforms.Resize((224, 224)),  \n",
    "    transforms.ToTensor(),          \n",
    "])\n",
    "\n",
    "\n",
    "transforms_augmented = [\n",
    "    transforms.Compose([\n",
    "        transforms.Resize((224, 224)), \n",
    "        transforms.RandomRotation(degrees=30), \n",
    "        transforms.ToTensor(),                 \n",
    "        transforms.Normalize(mean=[0.485, 0.456, 0.406], std=[0.229, 0.224, 0.225]), \n",
    "    ]),\n",
    "\n",
    "    transforms.Compose([\n",
    "        transforms.Resize((224, 224)), \n",
    "        transforms.RandomHorizontalFlip(p=1), \n",
    "        transforms.ToTensor(),                 \n",
    "        transforms.Normalize(mean=[0.485, 0.456, 0.406], std=[0.229, 0.224, 0.225]), \n",
    "    ]),\n",
    "     transforms.Compose([\n",
    "        transforms.Resize((224, 224)), \n",
    "        transforms.RandomGrayscale(p=1), \n",
    "        transforms.ToTensor(),                 \n",
    "        transforms.Normalize(mean=[0.485, 0.456, 0.406], std=[0.229, 0.224, 0.225]), \n",
    "    ]),\n",
    "     transforms.Compose([\n",
    "        transforms.Resize((224, 224)), \n",
    "        transforms.RandomVerticalFlip(p=1), \n",
    "        transforms.ToTensor(),                 \n",
    "        transforms.Normalize(mean=[0.485, 0.456, 0.406], std=[0.229, 0.224, 0.225]), \n",
    "    ]),\n",
    "     transforms.Compose([\n",
    "        transforms.Resize((224, 224)), \n",
    "        transforms.GaussianBlur(5), \n",
    "        transforms.ToTensor(),                 \n",
    "        transforms.Normalize(mean=[0.485, 0.456, 0.406], std=[0.229, 0.224, 0.225]), \n",
    "    ]),\n",
    "     transforms.Compose([\n",
    "        transforms.Resize((224, 224)), \n",
    "        transforms.RandomErasing(p=1), \n",
    "        transforms.ToTensor(),                 \n",
    "        transforms.Normalize(mean=[0.485, 0.456, 0.406], std=[0.229, 0.224, 0.225]), \n",
    "    ]),\n",
    "     transforms.Compose([\n",
    "        transforms.Resize((224, 224)), \n",
    "        transforms.ColorJitter(brightness=0.2, contrast=0.2, saturation=0.2, hue=0.1),   \n",
    "        transforms.ToTensor(),                 \n",
    "        transforms.Normalize(mean=[0.485, 0.456, 0.406], std=[0.229, 0.224, 0.225]), \n",
    "    ]),\n",
    "     transforms.Compose([\n",
    "        transforms.Resize((224, 224)), \n",
    "        transforms.CenterCrop(2), \n",
    "        transforms.ToTensor(),                 \n",
    "        transforms.Normalize(mean=[0.485, 0.456, 0.406], std=[0.229, 0.224, 0.225]), \n",
    "    ]),\n",
    "       transforms.Compose([\n",
    "        transforms.Resize((224, 224)), \n",
    "        transforms.RandomCrop(5), \n",
    "        transforms.ToTensor(),                 \n",
    "        transforms.Normalize(mean=[0.485, 0.456, 0.406], std=[0.229, 0.224, 0.225]), \n",
    "    ]),\n",
    "\n",
    "]\n",
    "\n",
    "\n",
    "original_data = datasets.ImageFolder(root='../food-101/images', transform=transform_original)\n",
    "\n",
    "datasets_augmented = []\n",
    "for transform_augmented in transforms_augmented:\n",
    "    dataset_augmented = datasets.ImageFolder(root='../food-101/images', transform=transform_augmented)\n",
    "    datasets_augmented.append(dataset_augmented)\n",
    "\n",
    "# Combine datasets\n",
    "all_datasets = [original_data] + datasets_augmented\n",
    "combined_dataset = ConcatDataset(all_datasets)\n",
    "\n",
    "len(combined_dataset)"
   ]
  },
  {
   "cell_type": "code",
   "execution_count": null,
   "metadata": {},
   "outputs": [],
   "source": []
  }
 ],
 "metadata": {
  "kernelspec": {
   "display_name": "Python 3",
   "language": "python",
   "name": "python3"
  },
  "language_info": {
   "codemirror_mode": {
    "name": "ipython",
    "version": 3
   },
   "file_extension": ".py",
   "mimetype": "text/x-python",
   "name": "python",
   "nbconvert_exporter": "python",
   "pygments_lexer": "ipython3",
   "version": "3.9.1"
  }
 },
 "nbformat": 4,
 "nbformat_minor": 2
}
